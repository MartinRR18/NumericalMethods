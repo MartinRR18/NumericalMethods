{
 "cells": [
  {
   "cell_type": "markdown",
   "id": "a6574f1d-c191-4cdb-9c37-100a613f75f9",
   "metadata": {},
   "source": [
    "# Taller 1 - Interpolación polinomial de datos\n",
    "### Solución matricial de sistema de ecuaciones para el cálculo de $n$ coeficientes de un polinomio."
   ]
  },
  {
   "cell_type": "markdown",
   "id": "e5dbd3d0-ee6a-4eda-a373-6fbfe4676c95",
   "metadata": {},
   "source": [
    "Un polinomio de grado n tiene la forma siguiente, \n",
    "\n",
    "$$a_0+a_1x+a_2x^2+a_3x^3+...+a_nx^n = y $$\n",
    "\n",
    "Si queremos hacer una interpolación con un polinomio de grado $n$, necesitamos $n+1$ datos en el plano $xy$ para construir un sistema de $n+1$ ecuaciones. Este sistema de ecuaciones determina la siguiente ecuación matricial,\n",
    "\n",
    "$$A\\mathbf{a}=\\mathbf{y}$$\n",
    "\n",
    "donde la matriz $A$ está formada por los $n+1$ datos de $x$ y el vector $\\mathbf{a}$ representa los coeficientes por determinar y el vector columna $\\mathbf{y}$ los $n+1$ datos en y. Si la matriz tiene inversa, entonces la solución del sistema de ecuaciones está dado por, \n",
    "\n",
    "$$\\mathbf{a}=A^{-1}\\mathbf{y} $$"
   ]
  },
  {
   "cell_type": "code",
   "execution_count": 1,
   "id": "0a281a21-aa24-47d6-9c53-bc8d8dac0e18",
   "metadata": {},
   "outputs": [],
   "source": [
    "import numpy as np\n",
    "import matplotlib.pyplot as plt"
   ]
  },
  {
   "cell_type": "code",
   "execution_count": 2,
   "id": "558dafb7-3adf-419d-a014-ecffdc231ce2",
   "metadata": {},
   "outputs": [
    {
     "name": "stdout",
     "output_type": "stream",
     "text": [
      "[[  1.   1.   1.   1.   1.]\n",
      " [  1.   2.   4.   8.  16.]\n",
      " [  1.   3.   9.  27.  81.]\n",
      " [  1.   4.  16.  64. 256.]\n",
      " [  1.   5.  25. 125. 625.]]\n",
      "El determinante de la matriz es:  287.9999999999998\n"
     ]
    }
   ],
   "source": [
    "x=np.array([1,2,3,4,5])\n",
    "y=np.array([2,6,4,10,2])\n",
    "\n",
    "N=len(x)\n",
    "A=np.zeros((N,N))\n",
    "\n",
    "for i in range(N):\n",
    "    A.T[i]=x**i\n",
    "    \n",
    "print(A)\n",
    "\n",
    "#Si el determinante de la matriz es \n",
    "#distinto de cero entonces la matriz tiene inversa\n",
    "detA=np.linalg.det(A)\n",
    "print('El determinante de la matriz es: ',detA)"
   ]
  },
  {
   "cell_type": "code",
   "execution_count": 4,
   "id": "d893ff8b-40d8-48a1-ab30-e848cfdc163f",
   "metadata": {},
   "outputs": [
    {
     "name": "stdout",
     "output_type": "stream",
     "text": [
      "[-58.         113.66666667 -69.5         17.33333333  -1.5       ]\n"
     ]
    }
   ],
   "source": [
    "#Usamos el paquete solve de linalg de numpy para encontrar \n",
    "#la solución inversa de nuestro sistema que nos da los coeficientes que buscamos.\n",
    "a = np.linalg.solve(A,y)\n",
    "print(a)"
   ]
  },
  {
   "cell_type": "code",
   "execution_count": 4,
   "id": "6ab5ca91-c4f5-4dd5-921a-5aff1a915d01",
   "metadata": {},
   "outputs": [
    {
     "data": {
      "text/plain": [
       "[<matplotlib.lines.Line2D at 0x7fa5c2b6a560>]"
      ]
     },
     "execution_count": 4,
     "metadata": {},
     "output_type": "execute_result"
    },
    {
     "data": {
      "image/png": "[encoded data removed]",
      "text/plain": [
       "<Figure size 640x480 with 1 Axes>"
      ]
     },
     "metadata": {},
     "output_type": "display_data"
    }
   ],
   "source": [
    "#Graficamos el polinomio resultante con los coeficientes que encontramos.\n",
    "plt.plot(x,y,'ro')\n",
    "xteo=np.linspace(min(x),max(x),100)\n",
    "yteo=0\n",
    "for i in range(N):\n",
    "    yteo=yteo+a[i]*xteo**i\n",
    "#yteo=a[0]+a[1]*xteo+a[2]*xteo**2\n",
    "plt.plot(xteo,yteo,'b-')"
   ]
  },
  {
   "cell_type": "code",
   "execution_count": null,
   "id": "3351d803-35d2-45f1-824f-b744ad923057",
   "metadata": {},
   "outputs": [],
   "source": []
  }
 ],
 "metadata": {
  "kernelspec": {
   "display_name": "Python 3 (ipykernel)",
   "language": "python",
   "name": "python3"
  },
  "language_info": {
   "codemirror_mode": {
    "name": "ipython",
    "version": 3
   },
   "file_extension": ".py",
   "mimetype": "text/x-python",
   "name": "python",
   "nbconvert_exporter": "python",
   "pygments_lexer": "ipython3",
   "version": "3.10.6"
  }
 },
 "nbformat": 4,
 "nbformat_minor": 5
}
