{
 "cells": [
  {
   "cell_type": "markdown",
   "id": "0a6fff4d-8193-4a45-a50a-141fdc68e361",
   "metadata": {},
   "source": [
    "# Taller 3 - Factorización A=QR \n",
    "### Método de ortogonalización de Gram-Schmidt"
   ]
  },
  {
   "cell_type": "markdown",
   "id": "fc75ff82-0610-4d66-aa50-953545aab240",
   "metadata": {},
   "source": [
    "\n",
    "\n",
    "El método de Gram-Schmidt se usa para hallar bases ortogonales (Espacio Euclideo no normalizado) de cualquier \n",
    "base no euclídea.\n",
    "\n",
    "En primer lugar tenemos que:\n",
    "\n",
    "$$\\mathbf{v}-{\\langle \\mathbf{v}, \\mathbf{u}\\rangle\\over\\langle \\mathbf{u}, \\mathbf{u}\\rangle}\\mathbf{u} = \\mathbf{v} - \\mathrm{proy}_{\\mathbf{u}}\\,(\\mathbf{v})$$\n",
    "\n",
    "Es un vector ortogonal a $\\mathbf{u}$. Entonces, dados los vectores $\\mathbf{v}_1, \\dots, \\mathbf{v}_n$ , se define:\n",
    "\n",
    " $$\\mathbf{u}_1 = \\mathbf{v}_1,$$\n",
    "\n",
    "$$\\mathbf{u}_2 = \\mathbf{v}_2-{\\langle \\mathbf{v}_2, \\mathbf{u}_1\\rangle\\over\\langle\\mathbf{u}_1,\\mathbf{u}_1\\rangle}\\mathbf{u}_1, $$\n",
    "\n",
    "$$\\mathbf{u}_3 = \\mathbf{v}_3-{\\langle \\mathbf{v}_3, \\mathbf{u}_1\\rangle\\over\\langle\\mathbf{u}_1,\\mathbf{u}_1\\rangle}\\mathbf{u}_1-{\\langle \\mathbf{v}_3, \\mathbf{u}_2\\rangle\\over\\langle\\mathbf{u}_2,\\mathbf{u}_2\\rangle}\\mathbf{u}_2, $$\n",
    "\n",
    "Generalizando en k:\n",
    "\n",
    "$$\\mathbf{u}_k = \\mathbf{v}_k-\\sum_{j=1}^{k-1}{\\langle \\mathbf{v}_k, \\mathbf{u}_j\\rangle\\over\\langle\\mathbf{u}_j,\\mathbf{u}_j\\rangle}\\mathbf{u}_j $$\n",
    "\n",
    "\n",
    "A partir de las propiedades del producto escalar, es sencillo probar que el conjunto de vectores $\\mathbf{u}_1, \\dots, \\mathbf{u}_n$ es ortogonal.\n",
    "\n"
   ]
  },
  {
   "cell_type": "markdown",
   "id": "e03d0cde-7aaa-4a80-9bdd-f747815b586e",
   "metadata": {},
   "source": [
    "### Ejemplo\n",
    "Si se considera la descomposición de\n",
    "$$A = \n",
    "\\left( \\begin{matrix}\n",
    "12 & -51 & 4 \\\\\n",
    "6 & 167 & -68 \\\\\n",
    "-4 & 24 & -41 \n",
    "\\end{matrix} \\right)\n",
    ".$$\n",
    "\n",
    "Se busca la matriz ortogonal $Q$ tal que\n",
    "$$\n",
    "\\begin{matrix}\n",
    " Q\\,Q^{T} = I.\n",
    "\\end{matrix}\n",
    "$$\n",
    "\n",
    "Por lo que calculamos $Q$ mediante Gram-Schmidt como sigue:\n",
    "$$\n",
    "U = \n",
    "\\left( \\begin{matrix}\n",
    "\\mathbf u_1 & \\mathbf u_2 & \\mathbf u_3\n",
    "\\end{matrix} \\right)\n",
    "=\n",
    "\\left( \\begin{matrix}\n",
    "12 & -69 & -58/5 \\\\\n",
    "6  & 158 & 6/5 \\\\\n",
    "-4 &  30 & -33 \n",
    "\\end{matrix} \\right);\n",
    "$$\n",
    "\n",
    "$$\n",
    "Q = \n",
    "\\left( \\begin{matrix}\n",
    "\\frac{\\mathbf u_1}{\\|\\mathbf u_1\\|} & \n",
    "\\frac{\\mathbf u_2}{\\|\\mathbf u_2\\|} & \n",
    "\\frac{\\mathbf u_3}{\\|\\mathbf u_3\\|}\n",
    "\\end{matrix} \\right)\n",
    "=\n",
    "\\left( \\begin{matrix}\n",
    "     6/7    &    -69/175   &   -58/175   \\\\\n",
    "     3/7    &    158/175   &    6/175   \\\\\n",
    "    -2/7    &      6/35    &   -33/35    \n",
    "\\end{matrix} \\right);\n",
    "$$\n",
    "\n",
    "Por lo tanto, tenemos\n",
    "$$\n",
    " A = QQ^{T}A = Q R; \n",
    "$$\n",
    "\n",
    "$$\n",
    " R = Q^{T}A =\n",
    "\\left( \\begin{matrix}\n",
    "    14  &  21          &            -14 \\\\\n",
    "     0  & 175          &            -70 \\\\\n",
    "     0  &   0          &             35\n",
    "\\end{matrix} \\right).\n",
    "$$"
   ]
  },
  {
   "cell_type": "markdown",
   "id": "5358b3a9-699e-4816-b644-0874dc848e13",
   "metadata": {},
   "source": [
    "## Programación del método"
   ]
  },
  {
   "cell_type": "code",
   "execution_count": 1,
   "id": "33e71ab2-7d4d-4d64-8bf1-49db36ef4d03",
   "metadata": {},
   "outputs": [],
   "source": [
    "import numpy as np \n",
    "import numpy.linalg as npl"
   ]
  },
  {
   "cell_type": "code",
   "execution_count": 2,
   "id": "62bd000b-8f80-4d78-afed-7689f0dd2514",
   "metadata": {},
   "outputs": [],
   "source": [
    "def GramSchmidt(V):\n",
    "    m=V.shape[0]\n",
    "    n=V.shape[1]\n",
    "    U=np.zeros((m,n))\n",
    "    U[0]=np.copy(V[0])\n",
    "    for k in range(1,m):\n",
    "        U[k]=np.copy(V[k])\n",
    "        for j in range(k):\n",
    "            U[k]=U[k]-((np.dot(V[k],U[j]))/(npl.norm(U[j])**2))*U[j]\n",
    "#Los vectores columna de U ya son ortogonales entre si.\n",
    "#Ahora normalizamos cada vector columna de U para obtener una matriz ortonormal.\n",
    "    Q=np.zeros((m,n))\n",
    "    for k in range (m):\n",
    "        Q[k]=U[k]/npl.norm(U[k])\n",
    "    return Q"
   ]
  },
  {
   "cell_type": "code",
   "execution_count": 4,
   "id": "ae287edb-bef1-4a6a-baae-026fa3359aa3",
   "metadata": {},
   "outputs": [
    {
     "name": "stdout",
     "output_type": "stream",
     "text": [
      "V= [[ 12   6  -4]\n",
      " [-51 167  24]\n",
      " [  4 -68 -41]]\n",
      "Número de filas m =  3\n",
      "Número de columnas n =  3\n"
     ]
    }
   ],
   "source": [
    "#Definimos una matriz V compuesta de vectores columna no ortogonales entre si.\n",
    "#Usemos la misma matriz del taller de Hause-Holder para comparar resultados.\n",
    "V=np.array([[12,6,-4],[-51,167,24],[4,-68,-41]])\n",
    "print(\"V=\",V)\n",
    "m=V.shape[0]\n",
    "print(\"Número de filas m = \",m)\n",
    "n=V.shape[1]\n",
    "print(\"Número de columnas n = \",n)"
   ]
  },
  {
   "cell_type": "code",
   "execution_count": 77,
   "id": "ce06e59f-8ebc-4f03-9612-596c9da2c00e",
   "metadata": {},
   "outputs": [
    {
     "name": "stdout",
     "output_type": "stream",
     "text": [
      "Q= [[ 0.85714286 -0.39428571 -0.33142857]\n",
      " [ 0.42857143  0.90285714  0.03428571]\n",
      " [-0.28571429  0.17142857 -0.94285714]]\n"
     ]
    }
   ],
   "source": [
    "#Introducimos la matriz que acabamos de definir en la función \n",
    "#para ortogonalizar de acuerdo al método de Gramm-Schmidt.\n",
    "Q=GramSchmidt(V)\n",
    "print(\"Q=\",Q.T)"
   ]
  },
  {
   "cell_type": "code",
   "execution_count": 72,
   "id": "1eff0859-efc4-4824-9b45-9bad318a847b",
   "metadata": {},
   "outputs": [
    {
     "name": "stdout",
     "output_type": "stream",
     "text": [
      "-1.0\n"
     ]
    }
   ],
   "source": [
    "#Verificamos las propiedades de ortogonalidad de la matriz resultante.\n",
    "detQ=np.round(npl.det(Q),2)\n",
    "print(detQ)"
   ]
  },
  {
   "cell_type": "code",
   "execution_count": 73,
   "id": "2164929d-96f7-4ec0-a10a-cfc3b56a09a8",
   "metadata": {},
   "outputs": [
    {
     "data": {
      "text/plain": [
       "array([[ True,  True,  True],\n",
       "       [ True,  True,  True],\n",
       "       [ True,  True,  True]])"
      ]
     },
     "execution_count": 73,
     "metadata": {},
     "output_type": "execute_result"
    }
   ],
   "source": [
    "#Si el determinante de la matriz es 1 o -1, la inversa es igual a la transpuesta.\n",
    "np.round(npl.inv(Q),2)==np.round(Q.T,2)"
   ]
  },
  {
   "cell_type": "code",
   "execution_count": 75,
   "id": "51fad5cc-fcc3-4be0-bdc5-350a1e330b3e",
   "metadata": {},
   "outputs": [
    {
     "data": {
      "text/plain": [
       "2.7755575615628914e-16"
      ]
     },
     "execution_count": 75,
     "metadata": {},
     "output_type": "execute_result"
    }
   ],
   "source": [
    "#El producto interior entre los vectores columna ortogonalizados tiene que ser cero.\n",
    "#La resolución de la computadora nos dará un número muy pequeño, prácticamente cero.\n",
    "np.dot(U[0],U[1])"
   ]
  },
  {
   "cell_type": "code",
   "execution_count": null,
   "id": "144f65dc-585e-4f9e-937c-fe2cbfec73d0",
   "metadata": {},
   "outputs": [],
   "source": []
  }
 ],
 "metadata": {
  "kernelspec": {
   "display_name": "Python 3 (ipykernel)",
   "language": "python",
   "name": "python3"
  },
  "language_info": {
   "codemirror_mode": {
    "name": "ipython",
    "version": 3
   },
   "file_extension": ".py",
   "mimetype": "text/x-python",
   "name": "python",
   "nbconvert_exporter": "python",
   "pygments_lexer": "ipython3",
   "version": "3.10.6"
  }
 },
 "nbformat": 4,
 "nbformat_minor": 5
}
