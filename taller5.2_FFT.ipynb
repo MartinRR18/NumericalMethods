{
 "cells": [
  {
   "cell_type": "markdown",
   "id": "c9131c76-e57b-4206-87f0-d8fc08f77bd3",
   "metadata": {},
   "source": [
    "# Taller 5 (continuación) - FFT \n",
    "\n",
    "#### Comparación de DFT (transformada discreta de Fourier) con FFT (transformada rápida) algoritmo propio en python VS implementación con numpy y scypy\n",
    "\n",
    "### Referencias\n",
    "\n",
    "* https://pythonnumericalmethods.berkeley.edu/notebooks/chapter24.03-Fast-Fourier-Transform.html\n",
    "\n",
    "* https://pythonnumericalmethods.berkeley.edu/notebooks/chapter24.04-FFT-in-Python.html\n",
    "\n",
    "* https://towardsdatascience.com/fast-fourier-transform-937926e591cb\n",
    "\n",
    "* https://jakevdp.github.io/blog/2013/08/28/understanding-the-fft/\n",
    "\n",
    "* https://es.wikipedia.org/wiki/Transformada_r%C3%A1pida_de_Fourier\n",
    "\n",
    "* https://en.wikipedia.org/wiki/Cooley%E2%80%93Tukey_FFT_algorithm\n"
   ]
  },
  {
   "cell_type": "code",
   "execution_count": 3,
   "id": "afaa8c57-1118-4e69-b3f9-c169929039d9",
   "metadata": {},
   "outputs": [],
   "source": [
    "import numpy as np "
   ]
  },
  {
   "cell_type": "code",
   "execution_count": 53,
   "id": "4c51395c-3376-498a-b9eb-b97982ede823",
   "metadata": {},
   "outputs": [
    {
     "name": "stdout",
     "output_type": "stream",
     "text": [
      "DATA:  [0.11724655 0.26173168 0.29546221 ... 0.05404687 0.9910709  0.61270735]\n",
      "(True, True)\n"
     ]
    }
   ],
   "source": [
    "def get_data(N):\n",
    "    data=np.random.random(N)\n",
    "    return data\n",
    "\n",
    "\"\"\"\n",
    "def get_circular_terms(N):\n",
    "    terms = np.exp(-1j*2*np.pi*np.arange(N)/N)\n",
    "    return terms\n",
    "\"\"\"\n",
    "    \n",
    "    \n",
    "#Transformada discreta de Fourier; eficiencia O(N^{2})\n",
    "def dft(data): \n",
    "    N = data.shape[0]\n",
    "    n= np.arange(N)\n",
    "    k= n.reshape((N,1))\n",
    "    M = np.exp(-1j*2*np.pi*k*n/N)\n",
    "    \n",
    "    return np.dot(M,data)\n",
    "\n",
    "#Transformada rápida Fourier: Eficiencia O(Nlog_{2}(N))\n",
    "\n",
    "def fft(data):   \n",
    "    \"\"\"\n",
    "    data: np.array  \n",
    "    data as 1D array\n",
    "    return discrete fourier transform of data\n",
    "    \"\"\"\n",
    "\n",
    "    # len of data\n",
    "    N = data.shape[0]\n",
    "    # Durante la sesión de taller no escribí esta linea por lo que no había \"N\". \n",
    "    #Ese era el error que marcaba.  \n",
    "    \n",
    "    assert N%2 == 0, 'len of data: {} must be a power of 2'.format(N)\n",
    "    \n",
    "    if N <= 2: \n",
    "        return dft(data)\n",
    "    else:\n",
    "        data_even = fft(data[::2])\n",
    "        data_odd = fft(data[1::2])\n",
    "        #terms=get_circular_terms(N)\n",
    "        \"\"\"\n",
    "        Llamar a otra función dentro de esta función alenta el algoritmo\n",
    "        mejor llamar los términos \"circulares directamente\"...\n",
    "        \"\"\"\n",
    "        terms = np.exp(-2j * np.pi * np.arange(N) / N)\n",
    "        \n",
    "        return np.concatenate(\n",
    "            [\n",
    "                data_even+terms[:int(N/2)]*data_odd,\n",
    "                data_even+terms[int(N/2):]*data_odd\n",
    "                \n",
    "            ])\n",
    "\n",
    "N=1024\n",
    "x=get_data(N)\n",
    "print(\"DATA: \", x)\n",
    "\n",
    "DFT = dft(x)\n",
    "FFT = fft(x)\n",
    "FFTnp = np.fft.fft(x)\n",
    "#print('DFT: ',DFT)\n",
    "#print('FFT: ', FFT)\n",
    "#print('FFTnp: ',FFTnp)\n",
    "\n",
    "#Revisamos si nuestra implementación del algoritmo coincide con la de numpy\n",
    "print((np.allclose(DFT,FFTnp),np.allclose(FFT,FFTnp)))\n",
    "    \n"
   ]
  },
  {
   "cell_type": "markdown",
   "id": "6082a407-49b1-4442-b23a-2fb9ccc699c5",
   "metadata": {},
   "source": [
    "### Revisamos la rapidez de los algoritmos\n",
    "Consideremos que la implementación de numpy y scipy están escritas en fortran y usan operaciones vectoriales en lugar de recursión lo que las hace mucho más rápidas como veremos. Revisar referencias para ver como se realiza la implemetación de la FFT con operaciones vectoriales.  "
   ]
  },
  {
   "cell_type": "code",
   "execution_count": 54,
   "id": "c456ddf7-92a3-4191-91c5-b3ed758f7c0b",
   "metadata": {},
   "outputs": [
    {
     "name": "stdout",
     "output_type": "stream",
     "text": [
      "130 ms ± 2.45 ms per loop (mean ± std. dev. of 7 runs, 10 loops each)\n",
      "32 ms ± 2.78 ms per loop (mean ± std. dev. of 7 runs, 10 loops each)\n",
      "86.2 µs ± 1.45 µs per loop (mean ± std. dev. of 7 runs, 10,000 loops each)\n"
     ]
    }
   ],
   "source": [
    "%timeit dft(x)\n",
    "%timeit fft(x)\n",
    "%timeit np.fft.fft(x)"
   ]
  },
  {
   "cell_type": "code",
   "execution_count": 52,
   "id": "a4213f37-f7e9-4021-a83c-ff13294e88d6",
   "metadata": {},
   "outputs": [
    {
     "name": "stdout",
     "output_type": "stream",
     "text": [
      "26.5 µs ± 1.26 µs per loop (mean ± std. dev. of 7 runs, 10,000 loops each)\n"
     ]
    }
   ],
   "source": [
    "import scipy.fftpack as sfft\n",
    "%timeit sfft.fft(x)"
   ]
  },
  {
   "cell_type": "markdown",
   "id": "7104da54-9e60-4793-a148-6522da9fe113",
   "metadata": {},
   "source": [
    "Vemos que para 1024 datos, la implementación de scipy resulta ser el algoritmo más eficiente."
   ]
  },
  {
   "cell_type": "code",
   "execution_count": null,
   "id": "fc03c2ed-aef5-482d-ae17-0181b6166f6a",
   "metadata": {},
   "outputs": [],
   "source": []
  }
 ],
 "metadata": {
  "kernelspec": {
   "display_name": "Python 3 (ipykernel)",
   "language": "python",
   "name": "python3"
  },
  "language_info": {
   "codemirror_mode": {
    "name": "ipython",
    "version": 3
   },
   "file_extension": ".py",
   "mimetype": "text/x-python",
   "name": "python",
   "nbconvert_exporter": "python",
   "pygments_lexer": "ipython3",
   "version": "3.10.6"
  }
 },
 "nbformat": 4,
 "nbformat_minor": 5
}
