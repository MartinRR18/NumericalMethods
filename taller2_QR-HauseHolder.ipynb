{
 "cells": [
  {
   "cell_type": "markdown",
   "id": "2342fcf6-065a-4873-8812-56325e761507",
   "metadata": {},
   "source": [
    "# Taller 2 - Factorización A=QR \n",
    "### Método de reflexiones de Hause-Holder\n",
    "(Fuente: https://es.wikipedia.org/wiki/Factorizaci%C3%B3n_QR)\n",
    "\n",
    "La factorización QR de una matriz es una descomposición de una matriz como producto de una matriz ortogonal por una matriz triangular superior triangular superior. La descomposición QR es la base del algoritmo QR utilizado para el cálculo de los valores y vectores propios de una matriz.\n",
    "\n",
    "\n"
   ]
  },
  {
   "cell_type": "markdown",
   "id": "5e0ca332-3256-4cae-be4c-2c0cf553a0f2",
   "metadata": {},
   "source": [
    "Una $\\textbf{transformación de Householder}$ o reflexión de Householder es una transformación que refleja el espacio con respecto a un plano determinado. Esta propiedad se puede utilizar para realizar la transformación QR de una matriz si tenemos en cuenta que es posible elegir la matriz de Householder de manera que un vector elegido quede con una única componente no nula tras ser transformado (es decir, premultiplicando por la matriz de Householder). Gráficamente, esto significa que es posible reflejar el vector elegido respecto de un plano de forma que el reflejo quede sobre uno de los ejes de la base cartesiana.\n",
    "\n",
    "La manera de elegir el plano de reflexión y formar la matriz de Householder asociada es el siguiente:\n",
    "\n",
    "Sea $\\mathbf{x}$ un vector columna arbitrario m-dimensional tal que ||$\\mathbf{x}$|| = |$\\alpha$|, donde $\\alpha$ es un escalar.\n",
    "\n",
    "Entonces, siendo $\\mathbf{e}_1$ el vector $(1,0,...,0)^T$, y ||$\\cdot$|| la norma euclídea, se define:\n",
    "\n",
    "$$ \\mathbf{u} = \\mathbf{x} - \\alpha\\mathbf{e}_1,$$\n",
    "$$ \\mathbf{v} = \\frac{\\mathbf{u}}{||\\mathbf{u}||},$$\n",
    "$$ Q = I - 2 \\mathbf{v}\\mathbf{v}^T.$$\n",
    "\n",
    "$v$ es un vector unitario perpendicular al plano de reflexión elegido.\n",
    "$Q$ es una matriz de Householder asociada a dicho plano.\n",
    "\n",
    "$$ Qx = (\\alpha, 0, \\cdots, 0)^T.$$\n",
    "\n",
    "Esta propiedad se puede usar para transformar gradualmente los vectores columna de una matriz $A$ de dimensiones $m$ por $n$ en una matriz $\\textit{triangular superior}$. En primer lugar se multiplica $A$ con la matriz de Householder $Q_1$ que obtenemos al elegir como vector $\\mathbf{x}$ la primera columna de la matriz. Esto proporciona una matriz $QA$ con ceros en la primera columna (excepto el elemento de la primera fila).\n",
    "\n",
    "$$Q_{1}A = \\left[ \\begin{matrix}\n",
    "                   \\alpha_1&\\star&\\dots&\\star\\\\\n",
    "                      0    &     &     &    \\\\\n",
    "                   \\vdots  &     &  A' &    \\\\\n",
    "                      0    &     &     & \\end{matrix}\\right]$$\n",
    "\n",
    "el procedimiento se puede repetir para $A'$ (que se obtiene de $A$ eliminando la primera fila y columna), obteniendo así una matriz de Householder $Q_2$. Hay que tener en cuenta que $Q_2$ es menor que $Q_1$. Para conseguir que esta matriz opere con $Q_1A$ en lugar de $A$. Es necesario expandirla hacia arriba a la izquierda, completando con un uno en la diagonal, o en general:\n",
    "\n",
    "$$Q_k = \\left(\\begin{matrix}\n",
    "                  I_{k-1} & 0\\\\\n",
    "                   0  & Q_k'\\end{matrix} \\right).$$\n",
    "\n",
    "Tras repetir el proceso $t$ veces, donde $ t = min(m - 1, n)$, \n",
    "$$ R = Q_t \\cdots Q_2Q_1A $$\n",
    "es una matriz triangular superior. De forma que tomando\n",
    "$$Q = Q_1 Q_2 \\cdots Q_t$$\n",
    "\n",
    "$A = Q^T R$ es una descomposición $QR$ de la matriz $A$. \n",
    "\n",
    "Este método tiene una estabilidad numérica mayor que la del método de Gram-Schmidt. \n"
   ]
  },
  {
   "cell_type": "markdown",
   "id": "59284aa1-1b7b-4561-b720-cb521bca330c",
   "metadata": {
    "tags": []
   },
   "source": [
    "### Ejemplo \n",
    "Vamos a calcular la descomposición de la matriz\n",
    "$$A =  \\left(\\begin{matrix}\n",
    "12 & -51 & 4 \\\\\n",
    "6 & 167 & -68 \\\\\n",
    "-4 & 24 & -41 \\end{matrix} \\right) .$$\n",
    "\n",
    "En primer lugar necesitamos encontrar una reflexión que transforme la primera columna de la matriz ''A'', vector $\\mathbf{a}_1 = (12, 6, -4)^T$, en $\\|\\mathbf{a}_1\\| \\;\\mathrm{e}_1 = (14, 0, 0)^T.$ \n",
    "\n",
    "usando la expresión, \n",
    "$$\\mathbf{u} = \\mathbf{a}_1 - \\alpha\\mathbf{e}_1,$$\n",
    "y \n",
    "$$\\mathbf{v} = {\\mathbf{u} \\over |\\mathbf{u} |},$$\n",
    "\n",
    "en nuestro caso :\n",
    "$$\\alpha = 14  \\text{   y   }  \\mathbf{a}_1 = (12, 6, -4)^T$$\n",
    "\n",
    "Por lo tanto\n",
    "$$\\mathbf{u} = (-2, 6, -4)^T \\text{   y   } \\mathbf{v} = \\frac{2}{\\sqrt{14}}(-1, 3, -2)^T,$$\n",
    "\n",
    "entonces\n",
    "\n",
    "$$Q_1 = I - \\frac{2}{\\sqrt{14}\\sqrt{14}} \n",
    "\\left(\\begin{matrix} -1 \\\\ 3 \\\\ -2 \\end{matrix} \\right)\\left(\\begin{matrix} -1 & 3 & -2 \\end{matrix} \\right)$$\n",
    "\n",
    "$$ = I - \\frac{1}{7}\\left(\\begin{matrix}\n",
    "1 & -3  & 2 \\\\\n",
    "-3 & 9 & -6 \\\\\n",
    "2  & -6  & 4 \n",
    "\\end{matrix} \\right)\n",
    " = \\left(\\begin{matrix}\n",
    "6/7 & 3/7   &  -2/7 \\\\\n",
    "3/7  &-2/7  &  6/7 \\\\\n",
    "-2/7 & 6/7  &   3/7 \\\\\n",
    "\\end{matrix} \\right).$$\n",
    "\n",
    "Ahora observamos:\n",
    "$$Q_1A = \\left(\\begin{matrix}\n",
    "14 & 21 & -14 \\\\\n",
    "0 & -49 & -14 \\\\\n",
    "0 & 168 & -77 \\end{matrix} \\right),$$\n",
    "con lo que ya casi tenemos una matriz triangular. Sólo necesitamos hacer cero en el elemento (3,2).\n",
    "\n",
    "Tomando la submatriz bajo el (1, 1) y aplicando de nuevo el proceso a\n",
    "$$A' = M_{11} = \\left(\\begin{matrix}\n",
    "-49 & -14 \\\\\n",
    "168 & -77 \\end{matrix} \\right).$$\n",
    "Mediante el mismo método que antes obtenemos la matriz de Householder\n",
    "$$Q_2 = \\left(\\begin{matrix}\n",
    "1 & 0 & 0 \\\\\n",
    "0 & -7/25 & 24/25 \\\\\n",
    "0 & 24/25 & 7/25 \\end{matrix} \\right)$$\n",
    "\n",
    "Finalmente obtenemos\n",
    "$$Q=Q_1Q_2=\\left(\\begin{matrix}\n",
    "6/7 & -69/175 & -58/175\\\\\n",
    "3/7 & 158/175 & 6/175 \\\\\n",
    "-2/7 & 6/35 & -33/35\n",
    "\\end{matrix} \\right) $$\n",
    "$$R=Q^\\top A=\\left(\\begin{matrix}\n",
    "14 & 21 & -14 \\\\\n",
    "0 & 175 & -70 \\\\\n",
    "0 & 0 & 35\n",
    "\\end{matrix} \\right).$$\n",
    "La matriz ''Q'' es ortogonal y ''R'' es triangular superior, de forma que ''A'' = ''QR'' es la descomposición QR buscada.\n"
   ]
  },
  {
   "cell_type": "markdown",
   "id": "5bd170ae-43a1-43ca-97a8-8047f038f318",
   "metadata": {},
   "source": [
    "## Programación del método"
   ]
  },
  {
   "cell_type": "code",
   "execution_count": 1,
   "id": "8a3b6d42-bf30-46d2-bf12-573b85ee5413",
   "metadata": {},
   "outputs": [],
   "source": [
    "import numpy as np \n",
    "import numpy.linalg as npl"
   ]
  },
  {
   "cell_type": "code",
   "execution_count": null,
   "id": "39fe2f52-0157-4349-937d-24e6c39e2fd1",
   "metadata": {},
   "outputs": [],
   "source": [
    "#Definimos la matriz a factorizar.\n",
    "A = np.array([[12,6,-4],[-51,167,24],[4,-68,-41]])\n",
    "print(\"Matriz A: \\n\",A.T)"
   ]
  },
  {
   "cell_type": "code",
   "execution_count": 11,
   "id": "4c053ee3-f138-4bc0-880a-8501393be81c",
   "metadata": {},
   "outputs": [],
   "source": [
    "def householderQR(A):\n",
    "    m=A.shape[0]\n",
    "    n=A.shape[1]\n",
    "    R=np.copy(A)\n",
    "    Q=np.identity(m)\n",
    "    for i in range (n):\n",
    "        vk=np.copy(R[:,i])\n",
    "        q=0\n",
    "        while q<i:\n",
    "            vk[q]=0\n",
    "            q=q+1\n",
    "        vk[i]=vk[i]+npl.norm(vk)*np.sign(vk[q])\n",
    "        vk = np.transpose(np.array([vk]))\n",
    "        Hk = np.identity(m)-2*vk*np.transpose(vk)/npl.norm(vk)**2\n",
    "        R= np.dot(Hk,R)\n",
    "        Q = np.dot(Hk,Q)\n",
    "    Q=npl.inv(Q)\n",
    "    return(Q,R)"
   ]
  },
  {
   "cell_type": "code",
   "execution_count": 30,
   "id": "88497742-09a2-4440-b740-9d3cd279f384",
   "metadata": {},
   "outputs": [
    {
     "name": "stdout",
     "output_type": "stream",
     "text": [
      "\n",
      " Matriz ortogonal Q: \n",
      " [[-0.857  0.394 -0.331]\n",
      " [-0.429 -0.903  0.034]\n",
      " [ 0.286 -0.171 -0.943]]\n",
      "\n",
      "\n",
      " Matriz triangular superior R: \n",
      " [[ -14.  -21.   14.]\n",
      " [  -0. -175.   70.]\n",
      " [   0.    0.   35.]]\n"
     ]
    }
   ],
   "source": [
    "Q,R=householderQR(A.T)\n",
    "print(\"\\n Matriz ortogonal Q: \\n\",np.round(Q,3))\n",
    "print(\"\\n\\n Matriz triangular superior R: \\n\",np.round(R,2))"
   ]
  },
  {
   "cell_type": "markdown",
   "id": "2f7e35db-e094-49a2-87ff-9386bbff74ff",
   "metadata": {},
   "source": [
    "### Verificación de ortogonalidad con propiedades de matrices."
   ]
  },
  {
   "cell_type": "code",
   "execution_count": 35,
   "id": "ec25afa7-ac10-4180-b984-1ebe44d652e0",
   "metadata": {},
   "outputs": [
    {
     "name": "stdout",
     "output_type": "stream",
     "text": [
      "[[ -14.  -21.   14.]\n",
      " [  -0. -175.   70.]\n",
      " [   0.    0.   35.]]\n"
     ]
    }
   ],
   "source": [
    "R=np.matmul(Q.T,A.T)\n",
    "print(np.round(R,2))"
   ]
  },
  {
   "cell_type": "code",
   "execution_count": 32,
   "id": "d470fbd7-38b2-4448-ab17-9c50677428dd",
   "metadata": {},
   "outputs": [
    {
     "data": {
      "text/plain": [
       "array([[ True,  True,  True],\n",
       "       [ True,  True,  True],\n",
       "       [ True,  True,  True]])"
      ]
     },
     "execution_count": 32,
     "metadata": {},
     "output_type": "execute_result"
    }
   ],
   "source": [
    "Qinv=np.round(npl.inv(Q),2)\n",
    "Qtrans=np.round(Q.T,2)\n",
    "Qtrans==Qinv"
   ]
  },
  {
   "cell_type": "code",
   "execution_count": 33,
   "id": "694b3fe8-d24d-40eb-88d3-b1e23bfb8af6",
   "metadata": {},
   "outputs": [
    {
     "data": {
      "text/plain": [
       "-1.0"
      ]
     },
     "execution_count": 33,
     "metadata": {},
     "output_type": "execute_result"
    }
   ],
   "source": [
    "np.round(npl.det(Q))"
   ]
  },
  {
   "cell_type": "code",
   "execution_count": null,
   "id": "65ea02d6-72fe-4386-9187-c9dc2039328a",
   "metadata": {},
   "outputs": [],
   "source": []
  }
 ],
 "metadata": {
  "kernelspec": {
   "display_name": "Python 3 (ipykernel)",
   "language": "python",
   "name": "python3"
  },
  "language_info": {
   "codemirror_mode": {
    "name": "ipython",
    "version": 3
   },
   "file_extension": ".py",
   "mimetype": "text/x-python",
   "name": "python",
   "nbconvert_exporter": "python",
   "pygments_lexer": "ipython3",
   "version": "3.10.6"
  }
 },
 "nbformat": 4,
 "nbformat_minor": 5
}
